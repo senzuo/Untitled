{
 "cells": [
  {
   "cell_type": "markdown",
   "metadata": {},
   "source": [
    "磨磨蹭蹭做了kNN的PPT，发现kNN的并没有想象的那么简单，而且自己看wiki百科的英文也看到一头雾水……\n",
    "明天就好好看看kNN的wiki和准备PPT和决策树吧\n",
    "\n",
    "对了，还有kNN的代码也总结一下"
   ]
  },
  {
   "cell_type": "markdown",
   "metadata": {},
   "source": [
    "现在认为研究生阶段最重要的两点\n",
    "1.读文献的能力\n",
    "2.代码实现的能力\n",
    "前些时间看的Den代码是真烂，绝不允许自己写出那样子的代码，而且也想要熟练掌握matlab和python语言\n",
    "所以之后每个算法都要实现，每天做一道LeetCode题"
   ]
  }
 ],
 "metadata": {
  "kernelspec": {
   "display_name": "Python 3",
   "language": "python",
   "name": "python3"
  },
  "language_info": {
   "codemirror_mode": {
    "name": "ipython",
    "version": 3
   },
   "file_extension": ".py",
   "mimetype": "text/x-python",
   "name": "python",
   "nbconvert_exporter": "python",
   "pygments_lexer": "ipython3",
   "version": "3.6.3"
  }
 },
 "nbformat": 4,
 "nbformat_minor": 2
}
