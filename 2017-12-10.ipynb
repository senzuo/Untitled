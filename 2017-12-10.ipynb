{
 "cells": [
  {
   "cell_type": "markdown",
   "metadata": {},
   "source": [
    "彻底搞懂 dpc matlab 代码 体会矩阵编程\n",
    "   ### 最后的分割不太明白\n",
    "\n",
    "## 感知机\n",
    "### 梯度下降法\n",
    "        梯度\n",
    "        随机梯度下降法\n",
    "    **对偶形式不太明白**\n",
    "    \n",
    "完成原始形式感知机 matlab 编程    "
   ]
  },
  {
   "cell_type": "code",
   "execution_count": null,
   "metadata": {},
   "outputs": [],
   "source": []
  }
 ],
 "metadata": {
  "kernelspec": {
   "display_name": "Python 3",
   "language": "python",
   "name": "python3"
  },
  "language_info": {
   "codemirror_mode": {
    "name": "ipython",
    "version": 3
   },
   "file_extension": ".py",
   "mimetype": "text/x-python",
   "name": "python",
   "nbconvert_exporter": "python",
   "pygments_lexer": "ipython3",
   "version": "3.6.3"
  }
 },
 "nbformat": 4,
 "nbformat_minor": 2
}
