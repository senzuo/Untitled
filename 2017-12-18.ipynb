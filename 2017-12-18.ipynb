{
 "cells": [
  {
   "cell_type": "markdown",
   "metadata": {},
   "source": [
    "接昨天的活重新实现了DPC，并且实现了自动获取聚类中心\n",
    "> 使用的是 `spiral` 数据集，dc使用高斯核函数为什么效果就好那么多？！"
   ]
  },
  {
   "cell_type": "markdown",
   "metadata": {},
   "source": [
    "- 实现自动获取聚类中心和stairs\n",
    "- 层次聚类和leading tree\n",
    "- 高斯核函数\n",
    "- 聚类算法指标 NMI ……"
   ]
  },
  {
   "cell_type": "markdown",
   "metadata": {},
   "source": [
    "## sz看论文\n",
    "\n",
    "最重要的是不要浮躁，静下心来去看论文，比如对某个公式的每个符号所代表的意义逐个弄清楚，论文往往都写好了的，只是自己选择性地视而不见\n",
    "\n",
    "如果可以找的到代码，那就最好对照着代码看"
   ]
  }
 ],
 "metadata": {
  "kernelspec": {
   "display_name": "Python 3",
   "language": "python",
   "name": "python3"
  },
  "language_info": {
   "codemirror_mode": {
    "name": "ipython",
    "version": 3
   },
   "file_extension": ".py",
   "mimetype": "text/x-python",
   "name": "python",
   "nbconvert_exporter": "python",
   "pygments_lexer": "ipython3",
   "version": "3.6.3"
  }
 },
 "nbformat": 4,
 "nbformat_minor": 2
}
