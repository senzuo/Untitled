{
 "cells": [
  {
   "cell_type": "markdown",
   "metadata": {},
   "source": [
    "偷懒了几天，中间竟然隔了一周……\n",
    "\n",
    "看论文是有点痛苦啊！尤其是英文文献，有点懂了后查看代码，我的天啊，我知道什么叫烂代码了！\n",
    "那个命名，那个排版，那个结构，那个注释……\n",
    "\n",
    "跪了，跪了\n",
    "\n",
    "以后要多多看文献，好好写代码，造福后来人！"
   ]
  },
  {
   "cell_type": "markdown",
   "metadata": {},
   "source": [
    "回顾DPCluster\n",
    "\n",
    "使用matlab实现了DPC的 ρ δ nneigh 体会了matrix 编程"
   ]
  },
  {
   "cell_type": "markdown",
   "metadata": {},
   "source": [
    "论文 γ 曲线自动获取聚类中心和`stairs`"
   ]
  }
 ],
 "metadata": {
  "kernelspec": {
   "display_name": "Python 3",
   "language": "python",
   "name": "python3"
  },
  "language_info": {
   "codemirror_mode": {
    "name": "ipython",
    "version": 3
   },
   "file_extension": ".py",
   "mimetype": "text/x-python",
   "name": "python",
   "nbconvert_exporter": "python",
   "pygments_lexer": "ipython3",
   "version": "3.6.3"
  }
 },
 "nbformat": 4,
 "nbformat_minor": 2
}
